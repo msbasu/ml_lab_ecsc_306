{
 "cells": [
  {
   "cell_type": "markdown",
   "metadata": {
    "slideshow": {
     "slide_type": "slide"
    }
   },
   "source": [
    "## Assignment for Lab1\n",
    "\n",
    "\n",
    "\n",
    "### Write the program to generate tensorboard graph for below equations. \n",
    "##### The code and images should be uploaded to your own repository\n",
    "\n"
   ]
  },
  {
   "cell_type": "markdown",
   "metadata": {
    "slideshow": {
     "slide_type": "slide"
    }
   },
   "source": [
    "## Slot : A1\n",
    "\n",
    "1. $$ (a+b)^2 = a^2 + b^2 + 2ab $$\n",
    "2. $$ (a+b+c)^2 = a^2 + b^2 + 2ab +2bc + 2ca $$\n",
    "\n",
    "\n",
    "## Slot : A2\n",
    "\n",
    "1. $$ (a-b)^2 = a^2 + b^2 - 2ab $$\n",
    "2. $$ (a^3+ b^3) = (a+b)(a^2 -ab + b^2) $$\n",
    "\n",
    "\n",
    "\n",
    "## Slot : B1\n",
    "\n",
    "1. $$ (a+b)^2 = a^2 + b^2 + 2ab $$\n",
    "2. $$ (a^3 - b^3) = (a- b)(a^2 + ab + b^2) $$\n",
    "\n",
    "## Slot : B2\n",
    "\n",
    "1. $$ (a-b)^2 = a^2 + b^2 - 2ab $$\n",
    "2. $$ (a-b-c)^2 = a^2 + b^2  + c^2 -2ab -2ca + 2bc $$\n",
    "\n",
    "\n",
    "## Slot : C1\n",
    "\n",
    "1. $$ (a+b)^2 = a^2 + b^2 + 2ab $$\n",
    "2. $$ (a-b+c) ^2 =  a^2 +b^2 + c^2 -2xy -2yz + 2xz$$\n",
    "\n",
    "\n",
    "\n",
    "## Slot : C2\n",
    "\n",
    "1. $$ (a-b)^2 = a^2 + b^2 - 2ab $$\n",
    "2. $$ (a+b)^3 = a^3 + b^3 + 3ab(a+b) $$\n",
    "\n",
    "## Slot D1\n",
    "1. $$ (a+b)^2 = a^2 + b^2 + 2ab $$\n",
    "2. $$ (a-b)^3 = a^3 - b^3 + 3ab(a-b) $$\n",
    "\n",
    "## Slot D2\n",
    "1. $$ (a-b)^2 = a^2 + b^2 - 2ab $$\n",
    "2. $$ (a + b-c) ^2 = a^2 + b^2 + c^2 + 2xy -2yz -2xz $$\n"
   ]
  },
  {
   "cell_type": "code",
   "execution_count": 8,
   "metadata": {},
   "outputs": [
    {
     "name": "stdout",
     "output_type": "stream",
     "text": [
      "36\n"
     ]
    }
   ],
   "source": [
    "#####(a-b)^2 = a^2 + b^2 - 2ab\n",
    "import tensorflow as tf\n",
    "var1=tf.constant(15)\n",
    "var2=tf.constant(9)\n",
    "with tf.name_scope(\"operationGroup\"):\n",
    "    with tf.name_scope(\"Scope_A\"):\n",
    "        a= tf.multiply(var1,var1)\n",
    "        b= tf.multiply(var2,var2)\n",
    "with tf.name_scope(\"Scope_B\"):\n",
    "    c= tf.add(a, b,name= \"Add_these_numbers\")\n",
    "    d= tf.multiply(var1,var2,name = \"multiply_these_numbers\")\n",
    "    \n",
    "with tf.name_scope(\"Scope_C\"):\n",
    "    e= tf.multiply(2,d,name=\"B_add\")\n",
    "    \n",
    "rus=tf.subtract(c,e)\n",
    "with tf.Session() as ru:\n",
    "    writer = tf.summary.FileWriter(\"/tmp/tboard/output_l1\",ru.graph)\n",
    "    print(ru.run(rus))\n",
    "    writer.close()\n",
    "    \n",
    "    "
   ]
  },
  {
   "cell_type": "code",
   "execution_count": 13,
   "metadata": {},
   "outputs": [
    {
     "name": "stdout",
     "output_type": "stream",
     "text": [
      "280\n"
     ]
    }
   ],
   "source": [
    "#(a^3+ b^3) = (a+b)(a^2 -ab + b^2)\n",
    "import tensorflow  as tf\n",
    "var1 = tf.constant(4)\n",
    "var2 = tf.constant(6)\n",
    "with tf.name_scope(\"MyOperationGroup\"):\n",
    "    with tf.name_scope(\"Scope_A\"):\n",
    "        a=tf.multiply(var1,var1)\n",
    "        b=tf.multiply(var2,var2)\n",
    "with tf.name_scope(\"Scope_B\"):\n",
    "    c=tf.add(a,b, name=\"add_these_numbers\")\n",
    "    d=tf.multiply(var1,var2, name=\"Multiply_these_numbers\")\n",
    "    \n",
    "with tf.name_scope(\"Scope_C\"):\n",
    "    e=tf.subtract(c,d, name=\"Subtracting\")\n",
    "    \n",
    "    f=tf.add(var1,var2)\n",
    "        \n",
    "with tf.name_scope(\"Scope_D\"):\n",
    "    res=tf.multiply(f,e)\n",
    "    \n",
    "    \n",
    "with tf.Session() as sess:  \n",
    "    Writer = tf.summary.FileWriter(\"/tmp/tboard/output_g2\",sess.graph)\n",
    "    print(sess.run(res))\n",
    "    Writer.close()\n"
   ]
  },
  {
   "cell_type": "code",
   "execution_count": null,
   "metadata": {
    "collapsed": true
   },
   "outputs": [],
   "source": []
  }
 ],
 "metadata": {
  "celltoolbar": "Slideshow",
  "kernelspec": {
   "display_name": "Python 3",
   "language": "python",
   "name": "python3"
  },
  "language_info": {
   "codemirror_mode": {
    "name": "ipython",
    "version": 3
   },
   "file_extension": ".py",
   "mimetype": "text/x-python",
   "name": "python",
   "nbconvert_exporter": "python",
   "pygments_lexer": "ipython3",
   "version": "3.6.1"
  }
 },
 "nbformat": 4,
 "nbformat_minor": 2
}
