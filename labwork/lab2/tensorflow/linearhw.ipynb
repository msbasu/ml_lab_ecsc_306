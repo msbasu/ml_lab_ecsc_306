{
 "cells": [
  {
   "cell_type": "code",
   "execution_count": 19,
   "metadata": {
    "collapsed": true
   },
   "outputs": [],
   "source": [
    "import tensorflow as tf\n",
    "import numpy as np\n",
    "rng = np.random\n",
    "\n",
    "import matplotlib.pyplot as plt\n",
    "learning_rate = 0.0001\n",
    "training_epochs = 1000\n",
    "display_step = 50"
   ]
  },
  {
   "cell_type": "code",
   "execution_count": 20,
   "metadata": {},
   "outputs": [
    {
     "name": "stdout",
     "output_type": "stream",
     "text": [
      "0.2631\n"
     ]
    }
   ],
   "source": [
    "with tf.name_scope(\"arraycreation\"):\n",
    "    x_array=np.asarray([3.0,8.3,5.89,1.23,-2.23,5.23,5.25,-2.25,-3.31,0.45])\n",
    "    y_array=np.asarray([2.36,5.78,-5.08,0.25,0.41,5.09,-5.66,-6.77,5.001,1.25])\n",
    "    x = tf.constant(x_array,dtype = tf.float32,name = \"x_array\")\n",
    "    y = tf.constant(y_array,dtype = tf.float32, name= \"y_array\")\n",
    "with tf.name_scope(\"Calculating_y_mean\"):\n",
    "    mean_y = tf.reduce_mean(y, name = \"mean_y\")\n",
    "    with tf.Session() as sess:\n",
    "        result_y = sess.run(mean_y)\n",
    "        print(result_y)"
   ]
  },
  {
   "cell_type": "code",
   "execution_count": 21,
   "metadata": {},
   "outputs": [
    {
     "name": "stdout",
     "output_type": "stream",
     "text": [
      "2.156\n",
      "14.3721\n"
     ]
    }
   ],
   "source": [
    "with tf.name_scope(\"x_mean_and_x_varience_calculation\"):\n",
    "    mean_x, variance = tf.nn.moments(x, [0], name = \"mean_x_and_variance_x\")\n",
    "    with tf.Session() as sess:\n",
    "        m, v = sess.run([mean_x, variance])\n",
    "        print(m)\n",
    "        print(v)"
   ]
  },
  {
   "cell_type": "code",
   "execution_count": 22,
   "metadata": {},
   "outputs": [
    {
     "name": "stdout",
     "output_type": "stream",
     "text": [
      "1.5001\n"
     ]
    }
   ],
   "source": [
    "with tf.name_scope(\"covariencecalculation\"):\n",
    "    def tensorflow_covariance(x_array,y_array,x_mean,y_mean):\n",
    "        cov = 0.0\n",
    "        for i in range(0,10):\n",
    "            x_val = tf.subtract(x_array[i],x_mean, name=\"Finding_difference_of_xval_and_mean\")\n",
    "            y_val = tf.subtract(y_array[i],y_mean, name=\"Finding_difference_of_yval_and_mean\")\n",
    "            total_val = tf.multiply(x_val,y_val, name=\"Multiplying_found_values\")\n",
    "            cov = tf.add(cov,total_val, name=\"Recursive_addition\")\n",
    "        return cov/10.0\n",
    "    with tf.Session() as sess:\n",
    "        covar = sess.run(tensorflow_covariance(x,y,m,result_y))\n",
    "        print(covar)"
   ]
  },
  {
   "cell_type": "code",
   "execution_count": 23,
   "metadata": {},
   "outputs": [
    {
     "name": "stdout",
     "output_type": "stream",
     "text": [
      "0.104376\n",
      "0.0380664\n"
     ]
    }
   ],
   "source": [
    "with tf.name_scope(\"slope_m_and_c_calculation\"):\n",
    "    slope = tf.div(covar,v,name=\"Finding_slope\")\n",
    "    intm = tf.multiply(slope,m,name = \"Intermediate_step\")\n",
    "    c_intm = tf.subtract(result_y,intm,name = \"Finding_c\")\n",
    "\n",
    "    with tf.Session() as sess:\n",
    "        m_slope = sess.run(slope)\n",
    "        c = sess.run(c_intm)\n",
    "        print(m_slope)\n",
    "        print(c)"
   ]
  },
  {
   "cell_type": "code",
   "execution_count": 24,
   "metadata": {},
   "outputs": [
    {
     "name": "stdout",
     "output_type": "stream",
     "text": [
      "Epoch: 0050 cost= 51.255821228 W= -2.0162 b= 0.300534\n",
      "Epoch: 0100 cost= 43.978286743 W= -1.82661 b= 0.321\n",
      "Epoch: 0150 cost= 37.976593018 W= -1.65442 b= 0.339419\n",
      "Epoch: 0200 cost= 33.027107239 W= -1.49804 b= 0.355979\n",
      "Epoch: 0250 cost= 28.945337296 W= -1.356 b= 0.370854\n",
      "Epoch: 0300 cost= 25.579130173 W= -1.227 b= 0.384197\n",
      "Epoch: 0350 cost= 22.803010941 W= -1.10984 b= 0.396151\n",
      "Epoch: 0400 cost= 20.513521194 W= -1.00342 b= 0.406843\n",
      "Epoch: 0450 cost= 18.625316620 W= -0.90676 b= 0.41639\n",
      "Epoch: 0500 cost= 17.068058014 W= -0.818965 b= 0.424899\n",
      "Epoch: 0550 cost= 15.783712387 W= -0.739219 b= 0.432464\n",
      "Epoch: 0600 cost= 14.724431038 W= -0.666781 b= 0.439174\n",
      "Epoch: 0650 cost= 13.850764275 W= -0.600983 b= 0.445107\n",
      "Epoch: 0700 cost= 13.130151749 W= -0.541211 b= 0.450336\n",
      "Epoch: 0750 cost= 12.535767555 W= -0.486914 b= 0.454926\n",
      "Epoch: 0800 cost= 12.045475960 W= -0.437587 b= 0.458935\n",
      "Epoch: 0850 cost= 11.641029358 W= -0.392774 b= 0.462419\n",
      "Epoch: 0900 cost= 11.307382584 W= -0.352062 b= 0.465426\n",
      "Epoch: 0950 cost= 11.032117844 W= -0.315072 b= 0.468\n",
      "Epoch: 1000 cost= 10.805002213 W= -0.281462 b= 0.470182\n",
      "Optimization Finished!!!!!!!!!!!!!\n",
      "Training cost= 10.805 W= -0.281462 b= 0.470182 \n",
      "\n"
     ]
    },
    {
     "data": {
      "image/png": "[encoded data removed]",
      "text/plain": [
       "<matplotlib.figure.Figure at 0x7fb3181c9550>"
      ]
     },
     "metadata": {},
     "output_type": "display_data"
    }
   ],
   "source": [
    "with tf.name_scope(\"Plotting\"):\n",
    "    n_samples = x_array.shape[0]\n",
    "    X = tf.placeholder(\"float\")\n",
    "    Y = tf.placeholder(\"float\")\n",
    "\n",
    "    # Set model weights\n",
    "    W = tf.Variable(rng.randn(), name=\"weight\")\n",
    "    b = tf.Variable(rng.randn(), name=\"bias\")\n",
    "\n",
    "    # Construct a linear model\n",
    "    pred = tf.add(tf.multiply(X, W), b)\n",
    "\n",
    "\n",
    "    # Mean squared error\n",
    "    cost = tf.reduce_sum(tf.pow(pred-Y, 2))/(2*n_samples)\n",
    "    # Gradient descent\n",
    "    optimizer = tf.train.GradientDescentOptimizer(learning_rate).minimize(cost)\n",
    "\n",
    "    # Initializing the variables\n",
    "    init = tf.global_variables_initializer()\n",
    "\n",
    "    # Launch the graph\n",
    "    with tf.Session() as sess:\n",
    "        sess.run(init)\n",
    "\n",
    "        # Fit all training data\n",
    "        for epoch in range(training_epochs):\n",
    "            for (p, r) in zip(x_array, y_array):\n",
    "                sess.run(optimizer, feed_dict={X: p, Y: r})\n",
    "\n",
    "            # Display logs per epoch step\n",
    "            if (epoch+1) % display_step == 0:\n",
    "                c = sess.run(cost, feed_dict={X: x_array, Y:y_array})\n",
    "                print(\"Epoch:\", '%04d' % (epoch+1), \"cost=\", \"{:.9f}\".format(c), \\\n",
    "                    \"W=\", sess.run(W), \"b=\", sess.run(b))\n",
    "\n",
    "        print(\"Optimization Finished!!!!!!!!!!!!!\")\n",
    "        training_cost = sess.run(cost, feed_dict={X: x_array, Y: y_array})\n",
    "        print(\"Training cost=\", training_cost, \"W=\", sess.run(W), \"b=\", sess.run(b), '\\n')\n",
    "\n",
    "        # Graphic display\n",
    "        plt.plot(x_array, y_array, 'ro', label='Original data')\n",
    "        plt.plot(x_array, sess.run(W) * x_array + sess.run(b), label='Fitted line')\n",
    "        plt.legend()\n",
    "        plt.show()"
   ]
  },
  {
   "cell_type": "code",
   "execution_count": 26,
   "metadata": {},
   "outputs": [
    {
     "name": "stdout",
     "output_type": "stream",
     "text": [
      "5.86704117081\n"
     ]
    }
   ],
   "source": [
    "with tf.name_scope(\"Finding_root_mean_square_error\"):\n",
    "    rms = tf.sqrt(tf.reduce_mean(tf.squared_difference(x_array, y_array,name = \"Finding_squared_difference\"),name=\"Finding_mean\"),name = \"Finding_square_root\")\n",
    "    with tf.Session() as sess:\n",
    "        rmse=sess.run(rms)\n",
    "        print(rmse)"
   ]
  },
  {
   "cell_type": "code",
   "execution_count": 27,
   "metadata": {},
   "outputs": [
    {
     "name": "stdout",
     "output_type": "stream",
     "text": [
      "0.104376\n"
     ]
    }
   ],
   "source": [
    "with tf.name_scope(\"Finding_theta_1\"): \n",
    "    y_var = tf.subtract(y,result_y,name = \"Subtract_y_array_with_y_mean\")\n",
    "    x_var = tf.subtract(x,m,name = \"Subtract_x_array_with_x_mean\")\n",
    "    mult = tf.multiply(x_var,y_var,name = \"Multiply_calculated_arrays\")\n",
    "    sumn = tf.reduce_sum(mult,name = \"Find_sum_of_x_i_minus_mean_x_and_y_i_minus_mean_y\")\n",
    "    x_var2 = tf.multiply(x_var,x_var,name = \"Squaring_found_arrray_values\")\n",
    "    sumd = tf.reduce_sum(x_var2,name = \"Find_sum_of_array_of_x_i_minus_mean_x\")\n",
    "    val = sumn/sumd\n",
    "\n",
    "    with tf.Session() as sess:\n",
    "        res = sess.run(val)\n",
    "        print(res)"
   ]
  },
  {
   "cell_type": "code",
   "execution_count": 28,
   "metadata": {},
   "outputs": [
    {
     "name": "stdout",
     "output_type": "stream",
     "text": [
      "0.0380664\n"
     ]
    }
   ],
   "source": [
    "with tf.name_scope(\"Finding_theta_0\"):    \n",
    "    temp = tf.multiply(res,m,name = \"Multiply_res_with_slope\")\n",
    "    theta = tf.subtract(result_y,temp,name=\"Sub_obtained_res_with_mean_y\")\n",
    "    with tf.Session() as sess:\n",
    "        theta0 = sess.run(theta)\n",
    "        print(theta0)"
   ]
  },
  {
   "cell_type": "code",
   "execution_count": 29,
   "metadata": {},
   "outputs": [
    {
     "name": "stdout",
     "output_type": "stream",
     "text": [
      "[ 0.35119301  0.90438336  0.65283829  0.16644832 -0.19469099  0.58395046\n",
      "  0.58603793 -0.19677851 -0.30741656  0.08503541]\n"
     ]
    }
   ],
   "source": [
    "with tf.name_scope(\"Finding_predictions\"):\n",
    "    mx = tf.multiply(res,x,name = \"Multiply_res_with_x_array\")\n",
    "    y_temp = tf.add(mx,theta0,name = \"Add_m_multiplied_x_array_with_c\")\n",
    "    with tf.Session() as sess:\n",
    "        y_new = sess.run(y_temp)\n",
    "        print(y_new)"
   ]
  },
  {
   "cell_type": "code",
   "execution_count": 30,
   "metadata": {},
   "outputs": [
    {
     "name": "stdout",
     "output_type": "stream",
     "text": [
      "9.65531\n"
     ]
    }
   ],
   "source": [
    "t_minus = tf.subtract(y_new,y,name = \"Sub_new_preds_with_original_y\")\n",
    "t_squared = tf.multiply(t_minus,t_minus,name= \"Square_obtained_res\")\n",
    "t_sum = tf.reduce_sum(t_squared,name=\"Find_array_sum\")\n",
    "j_theta = tf.div(t_sum,20,name=\"Divide_by_no_of_elements\")\n",
    "with tf.Session() as sess:\n",
    "    print(sess.run(j_theta))"
   ]
  },
  {
   "cell_type": "code",
   "execution_count": 31,
   "metadata": {},
   "outputs": [
    {
     "name": "stdout",
     "output_type": "stream",
     "text": [
      "9.65531\n"
     ]
    }
   ],
   "source": [
    "with tf.Session() as sess:\n",
    "    writer = tf.summary.FileWriter(\"/tmp/tboard/output_regg2\", sess.graph)\n",
    "    print(sess.run(j_theta))\n",
    "    writer.close()"
   ]
  }
 ],
 "metadata": {
  "kernelspec": {
   "display_name": "Python 3",
   "language": "python",
   "name": "python3"
  },
  "language_info": {
   "codemirror_mode": {
    "name": "ipython",
    "version": 3
   },
   "file_extension": ".py",
   "mimetype": "text/x-python",
   "name": "python",
   "nbconvert_exporter": "python",
   "pygments_lexer": "ipython3",
   "version": "3.6.1"
  }
 },
 "nbformat": 4,
 "nbformat_minor": 2
}
