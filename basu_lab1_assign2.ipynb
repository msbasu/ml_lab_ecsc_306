{
 "cells": [
  {
   "cell_type": "markdown",
   "metadata": {
    "slideshow": {
     "slide_type": "slide"
    }
   },
   "source": [
    "Write a program using tensorflow to calculate : \n",
    "    $$y=mx+c$$"
   ]
  },
  {
   "cell_type": "markdown",
   "metadata": {
    "slideshow": {
     "slide_type": "slide"
    }
   },
   "source": [
    "### Part 1\n",
    "\n",
    "1. Read 2 arrays x,y containing floating point values\n",
    "2. Calculate mean of x & y\n",
    "3. Calculate variance for x\n",
    "    $$variance(x)=sum((x-mean(x))^2)$$\n",
    "4. Calculate covariance of x & y\n",
    "    $$covariance = sum((x(i) - mean(x)) * (y(i) - mean(y)))$$\n",
    "5. Calculate value of m\n",
    "    $$m = covariance(x,y)/variance(x)$$\n",
    "6. Calculate value of c\n",
    "    $$c = mean(y) -m* mean(x)$$\n",
    "    "
   ]
  },
  {
   "cell_type": "markdown",
   "metadata": {
    "slideshow": {
     "slide_type": "slide"
    }
   },
   "source": [
    "### Part 2\n",
    "\n",
    "1. Plot graph for actual values against predicted value\n",
    "2. Calculate root mean square error."
   ]
  },
  {
   "cell_type": "code",
   "execution_count": 5,
   "metadata": {},
   "outputs": [
    {
     "name": "stdout",
     "output_type": "stream",
     "text": [
      "38.0\n",
      "46.8\n",
      "[[-4. -2.  0.  2.  4.]]\n",
      "40.0\n",
      "-52.0\n",
      "-1.3\n",
      "96.2\n",
      "17.6\n",
      "96.2\n"
     ]
    }
   ],
   "source": [
    "import tensorflow as tf\n",
    "\n",
    "with tf.name_scope(\"var\"):\n",
    "    with tf.name_scope(\"mean_x\"):\n",
    "        a1=tf.constant([34.0, 36.0, 38.0,40.0,42.0],shape=[1,5],name='a1')\n",
    "        b1=tf.constant([52.0, 54.0, 56.0,12.0,60.0],shape=[1,5],name='b1')\n",
    "        x=tf.reduce_mean(a1)\n",
    "        sess=tf.Session()\n",
    "    print(sess.run(x))\n",
    "    with tf.name_scope(\"mean_y\"):\n",
    "        y=tf.reduce_mean(b1)\n",
    "        sess=tf.Session()\n",
    "        print(sess.run(y))\n",
    "d=tf.subtract(a1,x)\n",
    "sess=tf.Session()\n",
    "print(sess.run(d))\n",
    "       \n",
    "e=tf.square(d)\n",
    "var=tf.reduce_sum(e)\n",
    "sess=tf.Session()\n",
    "print(sess.run(var))    \n",
    "    \n",
    "with tf.name_scope(\"covariance\"):\n",
    "    g=tf.subtract(b1,y)\n",
    "    sess=tf.Session()\n",
    "    g=tf.multiply(d,g)\n",
    "    h=tf.reduce_sum(g)\n",
    "    print(sess.run(h))    \n",
    "\n",
    "with tf.name_scope(\"value_of_m\"):\n",
    "    j=tf.divide(h,var)\n",
    "    print(sess.run(j))\n",
    "\n",
    "with tf.name_scope(\"value_c\"):\n",
    "    i=tf.multiply(j,x)\n",
    "    k=tf.subtract(y,i)\n",
    "    print(sess.run(k))  \n",
    "    \n",
    "    \n",
    "#calculating root mean square error\n",
    "with tf.name_scope(\"root_mean_square_error\"):\n",
    "    l=tf.subtract(b1,y)\n",
    "    m=tf.multiply(l, l)\n",
    "    n=tf.reduce_sum(m)\n",
    "    o=tf.divide(n, 5,)\n",
    "    p=tf.sqrt(o)\n",
    "    print (sess.run(p))\n",
    "    \n",
    "\n",
    "with tf.Session() as sess:\n",
    "    writer = tf.summary.FileWriter(\"/tmp/tboard/output3\", sess.graph)\n",
    "    print(sess.run(k))\n",
    "    writer.close()\n",
    "\n"
   ]
  },
  {
   "cell_type": "code",
   "execution_count": 6,
   "metadata": {},
   "outputs": [
    {
     "name": "stdout",
     "output_type": "stream",
     "text": [
      "[55.899998, 33.799999, 29.900002, 27.300003, 15.599998]\n"
     ]
    }
   ],
   "source": [
    "#estimating y values from x values\n",
    "import numpy \n",
    "\n",
    "with tf.Session() as sess:\n",
    "    x1=sess.run(a1)\n",
    "    y1=sess.run(b1)\n",
    "graph_X = numpy.asarray(x1)\n",
    "graph_Y = numpy.asarray(y1)\n",
    "\n",
    "\n",
    "x2=tf.constant([31.0,48.0, 51.0, 53.0, 62.0])\n",
    "with tf.Session() as sess:\n",
    "    x3=sess.run(x2)\n",
    "x4=numpy.asarray(x3)\n",
    "\n",
    "y2=[0]*5\n",
    "    \n",
    "with tf.Session() as sess:\n",
    "        for i in range(len(sess.run(x2))):\n",
    "            xx = sess.run(x2[i])\n",
    "            a=tf.multiply(xx,j)\n",
    "            b=tf.add(a,k)\n",
    "            y2[i]=sess.run(b)\n",
    "print(y2)"
   ]
  },
  {
   "cell_type": "code",
   "execution_count": 7,
   "metadata": {},
   "outputs": [
    {
     "data": {
      "image/png": "[encoded data removed]",
      "text/plain": [
       "<matplotlib.figure.Figure at 0x7faf345bdf60>"
      ]
     },
     "metadata": {},
     "output_type": "display_data"
    }
   ],
   "source": [
    "#graphs\n",
    "import matplotlib.pyplot as plt\n",
    "plt.plot(graph_X,graph_Y, 'ro', label='Actual values')\n",
    "plt.plot(x4, y2, label='fitted line')\n",
    "plt.legend()\n",
    "plt.show()"
   ]
  },
  {
   "cell_type": "code",
   "execution_count": null,
   "metadata": {
    "collapsed": true
   },
   "outputs": [],
   "source": []
  }
 ],
 "metadata": {
  "celltoolbar": "Slideshow",
  "kernelspec": {
   "display_name": "Python 3",
   "language": "python",
   "name": "python3"
  },
  "language_info": {
   "codemirror_mode": {
    "name": "ipython",
    "version": 3
   },
   "file_extension": ".py",
   "mimetype": "text/x-python",
   "name": "python",
   "nbconvert_exporter": "python",
   "pygments_lexer": "ipython3",
   "version": "3.6.1"
  }
 },
 "nbformat": 4,
 "nbformat_minor": 2
}
